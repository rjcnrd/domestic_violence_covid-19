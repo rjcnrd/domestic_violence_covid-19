{
 "cells": [
  {
   "cell_type": "markdown",
   "metadata": {},
   "source": [
    "### imports and preparation\n",
    "\n",
    "- place this notebook in ../typeform \n",
    "- store your own token for tf API in a file called \"typeform_token.py\" and save it locally (do not commit) in /typeform\n",
    "- The file contains only one line: TOKEN=\"your_token\""
   ]
  },
  {
   "cell_type": "code",
   "execution_count": 1,
   "metadata": {},
   "outputs": [],
   "source": [
    "import requests\n",
    "import pandas as pd\n",
    "#import my own function\n",
    "%run one_entry_to_dictionary.py\n",
    "%run typeform_token.py"
   ]
  },
  {
   "cell_type": "code",
   "execution_count": 16,
   "metadata": {},
   "outputs": [],
   "source": [
    "import sys\n",
    "sys.path.append('../')"
   ]
  },
  {
   "cell_type": "markdown",
   "metadata": {},
   "source": [
    "# 1. Pull Data from Typeform"
   ]
  },
  {
   "cell_type": "markdown",
   "metadata": {},
   "source": [
    "### Connect to TF, see metainfo for form"
   ]
  },
  {
   "cell_type": "code",
   "execution_count": 3,
   "metadata": {},
   "outputs": [
    {
     "name": "stdout",
     "output_type": "stream",
     "text": [
      "<Response [200]>\n",
      "{'id': 'OHziDn', 'title': 'UN Women COVID-19 Survey', 'theme': {'href': 'https://api.typeform.com/themes/UTPtTC'}, 'workspace': {'href': 'https://api.typeform.com/workspaces/y2fgNQ'}, 'settings': {'is_public': True, 'is_trial': False, 'language': 'en', 'progress_bar': 'percentage', 'show_progress_bar': False, 'show_typeform_branding': False, 'meta': {'allow_indexing': False, 'description': \"Help us understand women's experience during COVID-19.\", 'image': {'href': 'https://images.typeform.com/images/r8wQiuyGeEu2'}}}, 'welcome_screens': [{'ref': '427323db-ebf3-48b6-8cf0-2f2ecdcebd7f', 'title': \"Tell us how you're doing during lockdown with a few short questions, so we can make sure women's voices are heard.\\n\\nWe'll use your answers to show the government and leaders what changes need to happen.\\n\\nThank you so much for being part of this.\", 'properties': {'show_button': True, 'button_text': 'Start'}, 'attachment': {'type': 'image', 'href': 'https://images.typeform.com/images/uaEYgFXW6bKw'}}], 'thankyou_screens': [{'ref': 'f13e61ea-6b1c-40bd-b4ea-a9a6b5bdea9e', 'title': 'Thank you so much for taking part. \\n\\nYour answers will help us show leaders the investment and support needed during lockdown, and show the community how we can help each other.\\n\\nIf you want to, donate to help us build the Everyday Allyship platform [here](https://gofundme.com/everydayallyship).', 'properties': {'show_button': False, 'share_icons': True, 'button_mode': 'reload', 'button_text': 'again'}, 'attachment': {'type': 'image', 'href': 'https://images.typeform.com/images/xN6JEip3rdFA'}}, {'ref': 'default_tys', 'title': 'Done! Your information was sent perfectly.', 'properties': {'show_button': False, 'share_icons': False}}], 'fields': [{'id': 'Xa2T0bcZ5VnY', 'title': 'Do you identify as a:', 'ref': '49c4acab-fed2-46c2-804d-8f36db71a6d5', 'properties': {'randomize': False, 'allow_multiple_selection': False, 'allow_other_choice': False, 'vertical_alignment': True, 'choices': [{'id': 'P15fmXrpoRxj', 'ref': '5a48a2a4-def2-4e8a-baee-08babdf3f1ea', 'label': 'Woman'}, {'id': 'tcKQFslqBdIB', 'ref': '354aba1e-31d1-4265-9b04-b2e8a834823b', 'label': 'Man'}, {'id': 'yg5EHS0hBKJL', 'ref': '9923e430-cba4-4de6-a3b6-fdafb9a95fd3', 'label': 'Non-binary / other'}]}, 'validations': {'required': False}, 'type': 'multiple_choice'}, {'id': 'QUtA6k0gcrZf', 'title': 'How old are you? ', 'ref': '81c603ce-bdf7-4eb1-b7ac-6c489e514d80', 'properties': {'randomize': False, 'allow_multiple_selection': False, 'allow_other_choice': False, 'vertical_alignment': True, 'choices': [{'id': 'EWx1zUf0eatX', 'ref': 'c0896afa-b889-4026-ae87-d427d65400ff', 'label': '<18'}, {'id': 'QtBPfBQVsP01', 'ref': 'bad17504-6111-409c-b733-3ad81e374d88', 'label': '18-24'}, {'id': 'kcl8zbqehPXj', 'ref': '0a34d35f-6b31-42dc-a9bd-e98247f620a3', 'label': '25-34'}, {'id': 'SPQJPrDVhcV2', 'ref': '508d9916-4986-4987-9236-c515e6260096', 'label': '35-44'}, {'id': 'YxOaht9WCsW3', 'ref': 'fcadd7aa-0b48-443e-9054-d677e0f663a0', 'label': '45-54'}, {'id': 'A8PltOQn8LVm', 'ref': 'f32ba2d0-66cd-48d2-9a97-956e5b54f771', 'label': '55-64'}, {'id': 'wqpR18N5HZBG', 'ref': 'f7c0fdae-abe6-44f3-8b5f-758dcaca1035', 'label': '>64'}, {'id': 'Ux5uTHAO214z', 'ref': '50eda684-3d9f-4149-aecb-1a86a7d39ba2', 'label': 'Prefer not to say'}]}, 'validations': {'required': False}, 'type': 'multiple_choice'}, {'id': 'ZNZyNVwMtwID', 'title': 'How would you identify your ethnicity? \\n', 'ref': 'e9a85e52-f699-49da-af49-691eb1bcb8c8', 'properties': {'randomize': False, 'allow_multiple_selection': False, 'allow_other_choice': False, 'vertical_alignment': True, 'choices': [{'id': 'BKX2uuHOgZlt', 'ref': 'ba174db4-f76a-40e0-a157-992c1733dd78', 'label': 'White'}, {'id': 'CsihU3TOKGkb', 'ref': '2faa87bd-b0f6-4ac3-80a1-a16a20c4b2b5', 'label': 'Black/African Caribbean/Black British'}, {'id': 'm7X32GpxuPf9', 'ref': '3b65f99e-7155-4795-95c0-b8d04d83824f', 'label': 'Asian/Asian British'}, {'id': 'CJ3e92KxfjmO', 'ref': 'efd2d5d8-24f1-48b9-8ed5-29143db25299', 'label': 'Mixed/multiple ethnic groups'}, {'id': 'fA5wB1itBUCz', 'ref': 'fd2cb160-9d22-4deb-9202-e89d189e55e9', 'label': 'Other ethnic group'}]}, 'validations': {'required': False}, 'type': 'multiple_choice'}, {'id': 'azlKRkvdcc7O', 'title': 'Who are you in lockdown with?\\n', 'ref': '6239e96f-de24-4b30-922f-a2146fc7274d', 'properties': {'randomize': False, 'allow_multiple_selection': True, 'allow_other_choice': False, 'vertical_alignment': True, 'choices': [{'id': 'GqlGsFVoKrlW', 'ref': 'bfc34beb-2561-42c6-9c7b-96229b5c9f5d', 'label': 'Alone'}, {'id': 'SmBYJYC3RDry', 'ref': '8f55858c-b868-4d7c-a2ea-2b1059f70f19', 'label': 'With friend(s) / housemates'}, {'id': 'RU6cJsWhkF93', 'ref': '6605a269-57b3-4d7e-af7f-622ec482a1cd', 'label': 'My partner'}, {'id': 'JbBgqnPQ9Kpb', 'ref': 'eec58ee6-a350-4c1a-b01e-759c52edaede', 'label': 'My parent(s) / caregivers'}, {'id': 'IOamVhaudCvr', 'ref': '704157ba-dd50-437b-a56e-69ee9782248d', 'label': 'My siblings'}, {'id': 'QdurbFghcKok', 'ref': '08aeed5f-c0c7-4a47-9bc7-22982a63567a', 'label': 'Other family members (e.g. grandparents, aunts, cousins)'}, {'id': 'kutXRWO5tMbL', 'ref': '176eb479-6b6e-40b4-a292-890bd1895111', 'label': 'My children'}, {'id': 'l8Ai671SqKjX', 'ref': 'f682fb0d-37a7-4b1c-8937-694023e21c2d', 'label': 'Other'}]}, 'validations': {'required': False}, 'type': 'multiple_choice'}, {'id': 'Vrzj2uv0i29C', 'title': 'Where are you based during lockdown? Please enter your UK postcode if you are based in the UK, or your country of residence:', 'ref': '9453398b-a07f-43cc-98eb-ee042797c612', 'properties': {'description': 'All personal data will be kept anonymous.'}, 'validations': {'required': False}, 'type': 'short_text'}, {'id': 'Xh2W1d6FhXyK', 'title': 'Are you feeling safe at home?', 'ref': '41624c2b-31a4-4625-9484-e6d35bd348b3', 'properties': {'steps': 6, 'start_at_one': False, 'labels': {'left': 'Not safe at all', 'right': 'Yes, very safe'}}, 'validations': {'required': False}, 'type': 'opinion_scale'}, {'id': 'RuOpEr1EUqmB', 'title': '*IF YOU NEED URGENT HELP NOW*\\n\\nIf you are in immediate danger, you need to call 999. If you’re calling from a mobile and you can’t speak, press 55 to be transferred to the police.\\n\\nYou can find a list of organisations that might be able to help you if you’re experiencing abuse [here](https://www.gov.uk/report-domestic-abuse).\\n\\nThe National Domestic Abuse Helpline can be reached on 0808 2000 247, or at the Refuge website [here](https://www.nationaldahelpline.org.uk/). \\n\\nFind out how to clear your browsing history on [Google Chrome](https://support.google.com/chrome/answer/95589?co=GENIE.Platform%3DAndroid&hl=en), on an [iPhone](https://support.apple.com/en-gb/HT201265) and on an [Android](https://support.google.com/chrome/answer/2392709?co=GENIE.Platform%3DAndroid&hl=en).', 'ref': '6219f59a-a6e9-4e8e-b9e0-ae2be5b5ca67', 'properties': {'description': '\\n', 'hide_marks': True, 'button_text': 'Continue to survey'}, 'type': 'statement'}, {'id': 't9EaTsONnJfR', 'title': 'How has your feeling of safety at home changed since the lockdown?\\n\\n', 'ref': '0e2d3021-1709-4fd5-8077-14628b165877', 'properties': {'randomize': False, 'allow_multiple_selection': False, 'allow_other_choice': False, 'vertical_alignment': True, 'choices': [{'id': 'W7JvFRoTQp12', 'ref': '524f0a72-28ae-4814-95cd-9472ddb5b8ac', 'label': 'Better'}, {'id': 'mmQ23Z83YFqF', 'ref': 'c78f76c3-9a2c-4e7b-b46c-f0c9d08f01a8', 'label': 'Not changed'}, {'id': 'Suug9KPqPTo4', 'ref': 'bcbe5b7b-9a0c-4b31-b4d7-6ca6f9949f7f', 'label': 'Worse'}]}, 'validations': {'required': False}, 'type': 'multiple_choice'}, {'id': 'OaujoVSY6NaS', 'title': 'Why do you think this is?', 'ref': '8b84811a-8315-46c1-90b1-ec368cc67a32', 'properties': {'description': \"You don't have to, just press enter to continue if not\"}, 'validations': {'required': False}, 'type': 'long_text'}, {'id': 'ASolp4v3adZK', 'title': \"Are you doing okay during lockdown?\\nTell us how it's affecting your mental health.\\n\", 'ref': '5981e90e-52da-43d1-bb66-0edf215bdada', 'properties': {'steps': 6, 'start_at_one': False, 'labels': {'left': \"I'm feeling terrible\", 'right': 'Doing great!'}}, 'validations': {'required': False}, 'type': 'opinion_scale'}, {'id': 'erHBE6gKxycf', 'title': 'Have you experienced any of these negative feelings as a result of COVID-19 and lockdown?\\n', 'ref': 'e3c012f8-2ab9-4447-af7a-3359d85d4a4d', 'properties': {'randomize': False, 'allow_multiple_selection': True, 'allow_other_choice': False, 'vertical_alignment': True, 'choices': [{'id': 'DHP6R07Dunbk', 'ref': '75568641-d18c-4f8a-97dd-b9668a29a647', 'label': 'It has been repetitive / boring'}, {'id': 'wSye00IFDhGA', 'ref': '2fda87ad-3ba7-4ad1-9e6b-4509ebd8cfd5', 'label': 'I feel lonely'}, {'id': 'V13sWSNRBpUn', 'ref': 'f6260773-9b1a-420e-96bc-1b51bb913d2e', 'label': 'I feel stressed'}, {'id': 'fzR6DegVAxBa', 'ref': '44236136-c495-4de5-b808-6b02d4f89339', 'label': 'I feel anxious'}, {'id': 'V9e92AEEWzzJ', 'ref': 'ac16221b-dbeb-4921-92bd-a53b2fed5264', 'label': 'I feel worried about my health'}, {'id': 'rBLAkGyUjSXu', 'ref': 'c5b9ba30-976b-4347-beb7-728b0f49497a', 'label': 'I feel scared about the future'}, {'id': 'WWjNFQ9uZBYj', 'ref': 'f46764c5-a2e0-4064-87f9-67789f26a1c7', 'label': 'I’m having conflicts in my relationship'}, {'id': 'gbusAVPRrqM5', 'ref': '3d423127-47bf-43eb-a853-2573c96e1515', 'label': 'Other'}, {'id': 'woj0KpY0t29c', 'ref': '44f04bdf-3873-4226-a778-cd32dac55eb4', 'label': 'None'}]}, 'validations': {'required': False}, 'type': 'multiple_choice'}, {'id': 'ASQmq4h3vxRt', 'title': 'Have you had any of these positive experiences from lockdown?\\n', 'ref': '8a77f905-372f-4298-9681-eaaac096ab20', 'properties': {'randomize': False, 'allow_multiple_selection': True, 'allow_other_choice': False, 'vertical_alignment': True, 'choices': [{'id': 'oR6hGj0bJPjZ', 'ref': 'b477fc75-a0e2-4f26-b2da-d954e171ff1c', 'label': 'I have had more support in my daily tasks in the house'}, {'id': 'sZnWmMmK9MgD', 'ref': '812019a2-9e1c-45e6-9e62-81b6b07caa6c', 'label': 'I have had more support in my childcare responsibilities'}, {'id': 'GgGYDPmdf0Td', 'ref': '56879c0f-336e-434f-8ea3-a0387b7a351d', 'label': 'I have had more time to connect with loved ones'}, {'id': 'N2YmHV0xvsht', 'ref': '960180d9-17df-496d-86c9-5c54d1b45903', 'label': 'I have more time for leisure, e.g. to explore new activities, develop skills'}, {'id': 'MMPecyjdfHZE', 'ref': '63690960-e75b-41af-9da5-64537e2a4d52', 'label': 'I have enjoyed working from home'}, {'id': 'P1FTNvGSwdyK', 'ref': '8f8d735b-7ce8-43af-bba0-2a44b436db10', 'label': 'Other'}, {'id': 'j9sFBad5Z7Cs', 'ref': '25f112cb-a94b-42f3-8050-a384573308c6', 'label': 'None'}]}, 'validations': {'required': False}, 'type': 'multiple_choice'}, {'id': 'KEGztC8iYfyy', 'title': 'Are you currently working? \\n\\n', 'ref': '4709556e-7f18-4966-ad9f-55c1faf6d6bb', 'properties': {'randomize': False, 'allow_multiple_selection': False, 'allow_other_choice': True, 'vertical_alignment': True, 'choices': [{'id': 'hL1WBss82809', 'ref': '30c4b65d-c061-4ff5-b401-ca5a81a831d5', 'label': 'Yes, I work outside of my home'}, {'id': 'trZP1pNtw4OP', 'ref': '355d1a2d-f757-4eec-938c-01cbd4ab734e', 'label': 'Yes, I work at home'}, {'id': 'l0NNrwJzNVIS', 'ref': '8fac8d83-cca9-4275-8d9a-eb73ee341fe4', 'label': 'Yes, but I had to reduce working hours because of the lockdown'}, {'id': 'g6lzVWUfewRi', 'ref': 'cff6793e-92bf-46a2-a7cc-61d6e683a9dc', 'label': 'No, I have been furloughed because of the lockdown'}, {'id': 'dbJ2roIP3SUB', 'ref': '43096aa9-6c22-4ebf-a056-d22278a79a56', 'label': 'No, I have lost my job because of the lockdown'}, {'id': 'j9Ibo29wgLqB', 'ref': '25569f80-637f-4ffd-a8a5-f2a33bd36da9', 'label': 'No, I have had to stop working for other reasons related to COVID-19'}, {'id': 'ehJpHaqK0Yoy', 'ref': '1b52a7ce-7bc2-4036-867c-a44807c39dee', 'label': \"No, I don't work (or I am a student, or retired)\"}]}, 'validations': {'required': False}, 'type': 'multiple_choice'}, {'id': 'kWb7LUjdJyhb', 'title': 'How has COVID-19 made you feel your financial situation? \\n', 'ref': '0ab2860b-2e47-41b7-880e-bf55a29fc745', 'properties': {'randomize': False, 'allow_multiple_selection': False, 'allow_other_choice': False, 'vertical_alignment': True, 'choices': [{'id': 'Yrs6ogM1mjuK', 'ref': '0cd129db-751f-438a-90dc-65c4de20278f', 'label': 'It has impacted me very badly - I am extremely worried about my financial situation now'}, {'id': 'JpH3OxIqV7K4', 'ref': 'c87f6f6c-b122-4a5d-b2d5-e4d10c9d16d2', 'label': 'It has had a bit of a negative impact and has made me slightly worried'}, {'id': 'Nqf7pQYu78Mn', 'ref': '94af474f-18f0-4bb1-bf68-d473e7c6cc00', 'label': 'I feel better about my finances than I did before'}, {'id': 'PSQqa2KjNhjT', 'ref': '19c698fa-9892-4568-af37-963c7d796f08', 'label': 'No impact - I feel the same about my financial situation as I did before'}]}, 'validations': {'required': False}, 'type': 'multiple_choice'}, {'id': 'g9goY6hIxmC9', 'title': 'How much of the housework (childcare, cooking, cleaning...) do you do?', 'ref': '32141a98-f0b3-4648-a70f-8f79c6a2d34e', 'properties': {'randomize': False, 'allow_multiple_selection': False, 'allow_other_choice': False, 'vertical_alignment': True, 'choices': [{'id': 'xDpnYY6RfVhf', 'ref': '40e0273d-e3fd-4a87-86c4-5b3d3356cee3', 'label': 'I take care of all the housework'}, {'id': 'X1o12F4rfYxD', 'ref': 'eb2a4788-e585-401b-8706-5610a28c1b39', 'label': 'I take care of most of the housework'}, {'id': 'RUdCZQD1NpkM', 'ref': 'fcde30ca-af07-4751-b5e2-3d8303782d5b', 'label': 'We share it equally'}, {'id': 'fh2BDYAgdAGn', 'ref': '71ed73e0-a8b0-4dd5-a270-bc98265de6e0', 'label': 'I do less housework than others'}, {'id': 'tO3I9zex8Y8P', 'ref': '1e09698d-5c43-4431-a3a2-961dcb23bd3f', 'label': 'I am not doing any housework'}]}, 'validations': {'required': False}, 'type': 'multiple_choice'}, {'id': 'jG2wzvAmOWxq', 'title': 'Has your time spent on caring and housework changed during the lockdown? ', 'ref': 'b3078e3d-4de5-42b6-9418-d01d79e3e50a', 'properties': {'randomize': False, 'allow_multiple_selection': False, 'allow_other_choice': False, 'vertical_alignment': True, 'choices': [{'id': 'j8a7OZhkrQh6', 'ref': '892f813e-fb1d-45ec-804e-27c32a573bc7', 'label': \"I haven't noticed a change\"}, {'id': 'Lugu3i08Ihn1', 'ref': '0b78d448-effa-43da-a79a-6ee6662dbb33', 'label': 'I now do less'}, {'id': 'sqwP0sjLOaUJ', 'ref': '5d6f0a20-01e3-4acf-86e4-fe47ded87df5', 'label': \"I do more but it's manageable and sustainable\"}, {'id': 'x1phF25GdVaN', 'ref': '15250a8a-d629-45fa-9b77-9215d8a0d1bc', 'label': \"I do more and my work isn't impacted but I feel the strain\"}, {'id': 'pjnHUEEXDwvt', 'ref': '9f2947b5-a7e2-471f-bebf-a0087cc2f090', 'label': \"I do more and it's impacting my paid work\"}]}, 'validations': {'required': False}, 'type': 'multiple_choice'}, {'id': 'HNqA7BK7ZDFl', 'title': 'Is there anything else you want to tell us about your experiences?\\n', 'ref': '82dc28cb-9ba4-45c2-af11-09ac009dc2a6', 'properties': {'description': \"Your words may be published anonymously on our platform. You don't have to write anything, just press enter to continue\"}, 'validations': {'required': False}, 'type': 'long_text'}, {'id': 'hXM65Xe75JCt', 'title': 'Would you like to leave your email address so we can let you know when this project goes live? \\n', 'ref': 'adf24c3c-d5f6-4f31-9c35-29f9b844c345', 'properties': {'description': 'Optional, all data is kept anonymous'}, 'validations': {'required': False}, 'type': 'email'}], 'logic': [{'type': 'field', 'ref': '41624c2b-31a4-4625-9484-e6d35bd348b3', 'actions': [{'action': 'jump', 'details': {'to': {'type': 'field', 'value': '6219f59a-a6e9-4e8e-b9e0-ae2be5b5ca67'}}, 'condition': {'op': 'lower_than', 'vars': [{'type': 'field', 'value': '41624c2b-31a4-4625-9484-e6d35bd348b3'}, {'type': 'constant', 'value': 3}]}}, {'action': 'jump', 'details': {'to': {'type': 'field', 'value': '0e2d3021-1709-4fd5-8077-14628b165877'}}, 'condition': {'op': 'always', 'vars': []}}]}, {'type': 'field', 'ref': '0e2d3021-1709-4fd5-8077-14628b165877', 'actions': [{'action': 'jump', 'details': {'to': {'type': 'field', 'value': '8b84811a-8315-46c1-90b1-ec368cc67a32'}}, 'condition': {'op': 'or', 'vars': [{'op': 'is', 'vars': [{'type': 'field', 'value': '0e2d3021-1709-4fd5-8077-14628b165877'}, {'type': 'choice', 'value': '524f0a72-28ae-4814-95cd-9472ddb5b8ac'}]}, {'op': 'is', 'vars': [{'type': 'field', 'value': '0e2d3021-1709-4fd5-8077-14628b165877'}, {'type': 'choice', 'value': 'bcbe5b7b-9a0c-4b31-b4d7-6ca6f9949f7f'}]}]}}, {'action': 'jump', 'details': {'to': {'type': 'field', 'value': '5981e90e-52da-43d1-bb66-0edf215bdada'}}, 'condition': {'op': 'always', 'vars': []}}]}], '_links': {'display': 'https://unwomenuk.typeform.com/to/OHziDn'}}\n"
     ]
    }
   ],
   "source": [
    "#IMPORT TOKEN FILE \n",
    "auth_token= TOKEN\n",
    "head = {'Authorization': 'Bearer ' + auth_token}\n",
    "url = 'https://api.typeform.com/forms/OHziDn'\n",
    "\n",
    "metainfo_form = requests.get(url, headers=head)\n",
    "#response 200 means its good !\n",
    "print(metainfo_form)\n",
    "print(metainfo_form.json())"
   ]
  },
  {
   "cell_type": "markdown",
   "metadata": {},
   "source": [
    "### Pull all responses exclusing mail from Typeform"
   ]
  },
  {
   "cell_type": "code",
   "execution_count": 4,
   "metadata": {},
   "outputs": [
    {
     "name": "stdout",
     "output_type": "stream",
     "text": [
      "<Response [200]>\n"
     ]
    }
   ],
   "source": [
    "# get all answers but not emails\n",
    "SIZE = \"500\"\n",
    "url = \"https://api.typeform.com/forms/OHziDn/responses?fields=Xa2T0bcZ5VnY,QUtA6k0gcrZf,ZNZyNVwMtwID,azlKRkvdcc7O,Vrzj2uv0i29C,Xh2W1d6FhXyK,t9EaTsONnJfR,OaujoVSY6NaS,ASolp4v3adZK,erHBE6gKxycf,ASQmq4h3vxRt,KEGztC8iYfyy,kWb7LUjdJyhb,g9goY6hIxmC9,jG2wzvAmOWxq,HNqA7BK7ZDFl&page_size=\"+SIZE\n",
    "\n",
    "response = requests.get(url, headers=head)\n",
    "#response 200 means its good !\n",
    "print(response)\n",
    "\n",
    "responses = response.json()"
   ]
  },
  {
   "cell_type": "code",
   "execution_count": 5,
   "metadata": {},
   "outputs": [
    {
     "name": "stdout",
     "output_type": "stream",
     "text": [
      "number of responses 283\n",
      "the last response: {'landing_id': '2jq17ikprbr4l0xxhrl2jq17f8f20zo5', 'token': '2jq17ikprbr4l0xxhrl2jq17f8f20zo5', 'response_id': '2jq17ikprbr4l0xxhrl2jq17f8f20zo5', 'landed_at': '2020-05-12T09:57:01Z', 'submitted_at': '2020-05-12T10:02:49Z', 'metadata': {'user_agent': 'Mozilla/5.0 (iPhone; CPU iPhone OS 13_4_1 like Mac OS X) AppleWebKit/605.1.15 (KHTML, like Gecko) Version/13.1 Mobile/15E148 Safari/604.1', 'platform': 'mobile', 'referer': 'https://unwomenuk.typeform.com/', 'network_id': '3fcb8239d6', 'browser': 'touch'}, 'calculated': {'score': 0}, 'answers': [{'field': {'id': 'Xa2T0bcZ5VnY', 'ref': '49c4acab-fed2-46c2-804d-8f36db71a6d5', 'type': 'multiple_choice'}, 'type': 'choice', 'choice': {'label': 'Woman'}}, {'field': {'id': 'QUtA6k0gcrZf', 'ref': '81c603ce-bdf7-4eb1-b7ac-6c489e514d80', 'type': 'multiple_choice'}, 'type': 'choice', 'choice': {'label': '25-34'}}, {'field': {'id': 'ZNZyNVwMtwID', 'ref': 'e9a85e52-f699-49da-af49-691eb1bcb8c8', 'type': 'multiple_choice'}, 'type': 'choice', 'choice': {'label': 'Black/African Caribbean/Black British'}}, {'field': {'id': 'azlKRkvdcc7O', 'ref': '6239e96f-de24-4b30-922f-a2146fc7274d', 'type': 'multiple_choice'}, 'type': 'choices', 'choices': {'labels': ['My partner', 'My children']}}, {'field': {'id': 'Vrzj2uv0i29C', 'ref': '9453398b-a07f-43cc-98eb-ee042797c612', 'type': 'short_text'}, 'type': 'text', 'text': 'Sm2 6dy'}, {'field': {'id': 'Xh2W1d6FhXyK', 'ref': '41624c2b-31a4-4625-9484-e6d35bd348b3', 'type': 'opinion_scale'}, 'type': 'number', 'number': 1}, {'field': {'id': 't9EaTsONnJfR', 'ref': '0e2d3021-1709-4fd5-8077-14628b165877', 'type': 'multiple_choice'}, 'type': 'choice', 'choice': {'label': 'Worse'}}, {'field': {'id': 'OaujoVSY6NaS', 'ref': '8b84811a-8315-46c1-90b1-ec368cc67a32', 'type': 'long_text'}, 'type': 'text', 'text': 'I have noticed a increase of illegal activities happening on the streets ie drugs. I have also been a victim of identity fraud.'}, {'field': {'id': 'ASolp4v3adZK', 'ref': '5981e90e-52da-43d1-bb66-0edf215bdada', 'type': 'opinion_scale'}, 'type': 'number', 'number': 3}, {'field': {'id': 'erHBE6gKxycf', 'ref': 'e3c012f8-2ab9-4447-af7a-3359d85d4a4d', 'type': 'multiple_choice'}, 'type': 'choices', 'choices': {'labels': ['I feel stressed', 'I feel anxious', 'I feel scared about the future', 'I feel lonely', 'It has been repetitive / boring']}}, {'field': {'id': 'ASQmq4h3vxRt', 'ref': '8a77f905-372f-4298-9681-eaaac096ab20', 'type': 'multiple_choice'}, 'type': 'choices', 'choices': {'labels': ['I have had more time to connect with loved ones', 'I have enjoyed working from home']}}, {'field': {'id': 'KEGztC8iYfyy', 'ref': '4709556e-7f18-4966-ad9f-55c1faf6d6bb', 'type': 'multiple_choice'}, 'type': 'choice', 'choice': {'label': 'Yes, I work at home'}}, {'field': {'id': 'kWb7LUjdJyhb', 'ref': '0ab2860b-2e47-41b7-880e-bf55a29fc745', 'type': 'multiple_choice'}, 'type': 'choice', 'choice': {'label': 'It has had a bit of a negative impact and has made me slightly worried'}}, {'field': {'id': 'g9goY6hIxmC9', 'ref': '32141a98-f0b3-4648-a70f-8f79c6a2d34e', 'type': 'multiple_choice'}, 'type': 'choice', 'choice': {'label': 'I take care of all the housework'}}, {'field': {'id': 'jG2wzvAmOWxq', 'ref': 'b3078e3d-4de5-42b6-9418-d01d79e3e50a', 'type': 'multiple_choice'}, 'type': 'choice', 'choice': {'label': \"I do more and it's impacting my paid work\"}}, {'field': {'id': 'HNqA7BK7ZDFl', 'ref': '82dc28cb-9ba4-45c2-af11-09ac009dc2a6', 'type': 'long_text'}, 'type': 'text', 'text': 'Uncertainty in every area'}]}\n"
     ]
    }
   ],
   "source": [
    "print(\"number of responses\",responses['total_items'])\n",
    "#look at the first response\n",
    "print(\"the last response:\",responses[\"items\"][0])"
   ]
  },
  {
   "cell_type": "markdown",
   "metadata": {},
   "source": [
    "# 2. Transform JSON to pandas.df and map dummy vars"
   ]
  },
  {
   "cell_type": "markdown",
   "metadata": {},
   "source": [
    "### step by step"
   ]
  },
  {
   "cell_type": "code",
   "execution_count": 6,
   "metadata": {},
   "outputs": [],
   "source": [
    "# LOAD ONE PERSON FROM THE JSON RESPONSE\n",
    "one_person = responses[\"items\"][0]"
   ]
  },
  {
   "cell_type": "code",
   "execution_count": 7,
   "metadata": {},
   "outputs": [
    {
     "name": "stdout",
     "output_type": "stream",
     "text": [
      "{'id': '2jq17ikprbr4l0xxhrl2jq17f8f20zo5', 'submitted_at': '2020-05-12T10:02:49Z', 'gender': 'Woman', 'age': '25-34', 'ethnicity': 'Black/African Caribbean/Black British', 'live_alone': 0, 'live_friends': 0, 'live_partner': 1, 'live_parents': 0, 'live_siblings': 0, 'live_otherfamily': 0, 'live_children': 1, 'live_other': 0, 'location': 'Sm2 6dy', 'safety_level': 1, 'safety_change': 'Worse', 'safety_why': 'I have noticed a increase of illegal activities happening on the streets ie drugs. I have also been a victim of identity fraud.', 'mental_scale': 3, 'mental_problems_repetitive': 1, 'mental_problems_lonely': 1, 'mental_problems_stressed': 1, 'mental_problems_anxious': 1, 'mental_problems_worriedhealth': 0, 'mental_problems_scaredfuture': 1, 'mental_problems_relationship': 0, 'mental_problems_other': 0, 'mental_problems_none': 0, 'positive_impact_support_housework': 0, 'positive_impact_support_childcare': 0, 'positive_impact_connect': 0, 'positive_impact_leisure': 0, 'positive_impact_wfh': 0, 'positive_impact_other': 0, 'positive_impact_none': 0, 'work_situation': 'Yes, I work at home', 'financial_situation': 'It has had a bit of a negative impact and has made me slightly worried', 'housework_amount': 'I take care of all the housework', 'housework_change': \"I do more and it's impacting my paid work\", 'testimonial': 'Uncertainty in every area'}\n"
     ]
    }
   ],
   "source": [
    "#transform ONE person's information to a dictionary using function one_entry_to_dictionary\n",
    "dictionary_test = one_entry_to_dictionary(one_person)\n",
    "print(dictionary_test)"
   ]
  },
  {
   "cell_type": "code",
   "execution_count": 30,
   "metadata": {},
   "outputs": [
    {
     "data": {
      "text/html": [
       "<div>\n",
       "<style scoped>\n",
       "    .dataframe tbody tr th:only-of-type {\n",
       "        vertical-align: middle;\n",
       "    }\n",
       "\n",
       "    .dataframe tbody tr th {\n",
       "        vertical-align: top;\n",
       "    }\n",
       "\n",
       "    .dataframe thead th {\n",
       "        text-align: right;\n",
       "    }\n",
       "</style>\n",
       "<table border=\"1\" class=\"dataframe\">\n",
       "  <thead>\n",
       "    <tr style=\"text-align: right;\">\n",
       "      <th></th>\n",
       "      <th>id</th>\n",
       "      <th>submitted_at</th>\n",
       "      <th>gender</th>\n",
       "      <th>age</th>\n",
       "      <th>ethnicity</th>\n",
       "      <th>live_alone</th>\n",
       "      <th>live_friends</th>\n",
       "      <th>live_partner</th>\n",
       "      <th>live_parents</th>\n",
       "      <th>live_siblings</th>\n",
       "      <th>...</th>\n",
       "      <th>positive_impact_connect</th>\n",
       "      <th>positive_impact_leisure</th>\n",
       "      <th>positive_impact_wfh</th>\n",
       "      <th>positive_impact_other</th>\n",
       "      <th>positive_impact_none</th>\n",
       "      <th>work_situation</th>\n",
       "      <th>financial_situation</th>\n",
       "      <th>housework_amount</th>\n",
       "      <th>housework_change</th>\n",
       "      <th>testimonial</th>\n",
       "    </tr>\n",
       "  </thead>\n",
       "  <tbody>\n",
       "    <tr>\n",
       "      <th>0</th>\n",
       "      <td>2jq17ikprbr4l0xxhrl2jq17f8f20zo5</td>\n",
       "      <td>2020-05-12T10:02:49Z</td>\n",
       "      <td>Woman</td>\n",
       "      <td>25-34</td>\n",
       "      <td>Black/African Caribbean/Black British</td>\n",
       "      <td>0</td>\n",
       "      <td>0</td>\n",
       "      <td>1</td>\n",
       "      <td>0</td>\n",
       "      <td>0</td>\n",
       "      <td>...</td>\n",
       "      <td>0</td>\n",
       "      <td>0</td>\n",
       "      <td>0</td>\n",
       "      <td>0</td>\n",
       "      <td>0</td>\n",
       "      <td>Yes, I work at home</td>\n",
       "      <td>It has had a bit of a negative impact and has ...</td>\n",
       "      <td>I take care of all the housework</td>\n",
       "      <td>I do more and it's impacting my paid work</td>\n",
       "      <td>Uncertainty in every area</td>\n",
       "    </tr>\n",
       "  </tbody>\n",
       "</table>\n",
       "<p>1 rows × 39 columns</p>\n",
       "</div>"
      ],
      "text/plain": [
       "                                 id          submitted_at gender    age  \\\n",
       "0  2jq17ikprbr4l0xxhrl2jq17f8f20zo5  2020-05-12T10:02:49Z  Woman  25-34   \n",
       "\n",
       "                               ethnicity  live_alone  live_friends  \\\n",
       "0  Black/African Caribbean/Black British           0             0   \n",
       "\n",
       "   live_partner  live_parents  live_siblings  ...  positive_impact_connect  \\\n",
       "0             1             0              0  ...                        0   \n",
       "\n",
       "   positive_impact_leisure  positive_impact_wfh positive_impact_other  \\\n",
       "0                        0                    0                     0   \n",
       "\n",
       "   positive_impact_none       work_situation  \\\n",
       "0                     0  Yes, I work at home   \n",
       "\n",
       "                                 financial_situation  \\\n",
       "0  It has had a bit of a negative impact and has ...   \n",
       "\n",
       "                   housework_amount  \\\n",
       "0  I take care of all the housework   \n",
       "\n",
       "                            housework_change                testimonial  \n",
       "0  I do more and it's impacting my paid work  Uncertainty in every area  \n",
       "\n",
       "[1 rows x 39 columns]"
      ]
     },
     "execution_count": 30,
     "metadata": {},
     "output_type": "execute_result"
    }
   ],
   "source": [
    "# transform dictionary to df \n",
    "df_test = pd.DataFrame(dictionary_test,index=[0])\n",
    "df_test.head()"
   ]
  },
  {
   "cell_type": "markdown",
   "metadata": {},
   "source": [
    "### apply this to entire JSON"
   ]
  },
  {
   "cell_type": "code",
   "execution_count": 32,
   "metadata": {},
   "outputs": [],
   "source": [
    "def transform_all_to_df(responses):\n",
    "    '''\n",
    "    transforms the JSON response from the above query into a df with cols=vars, rows=individuals\n",
    "    '''\n",
    "    no_df_defined = True\n",
    "    for item in responses[\"items\"]:\n",
    "        dictionary_transformation = one_entry_to_dictionary(item)\n",
    "        df = pd.DataFrame(dictionary_transformation,index=[0])\n",
    "        #crate dictionary and then append to it \n",
    "        if no_df_defined:\n",
    "            df_all = df\n",
    "            no_df_defined = False\n",
    "        else: \n",
    "            df_all = df_all.append(df)\n",
    "        df_all = df_all.reset_index(drop = True)\n",
    "    return df_all"
   ]
  },
  {
   "cell_type": "code",
   "execution_count": 33,
   "metadata": {},
   "outputs": [
    {
     "name": "stdout",
     "output_type": "stream",
     "text": [
      "j3how3ucddd42l75uj3how3unt6vj27w has entered in column other_work: In between jobs // THIS ENTRY WAS DISCARDED AND SAVED AS OTHER\n",
      "8lg2mtsg3ala9xkk8lg2mdirml0bf04a has entered in column other_work: Maternity Leave // THIS ENTRY WAS DISCARDED AND SAVED AS OTHER\n",
      "g3re0wvwmge256f6g3re3c09cv3hn7ej has entered in column other_work: Maternity  // THIS ENTRY WAS DISCARDED AND SAVED AS OTHER\n",
      "yhqphqlb1d8tj14yhqphqege43pe5f0w has entered in column other_work: I work in Internet as hobby, I don't get money for that yet. // THIS ENTRY WAS DISCARDED AND SAVED AS OTHER\n",
      "w577oearvygk25d1w577zi41rxwtd5x7 has entered in column other_work: Stay at home mum  // THIS ENTRY WAS DISCARDED AND SAVED AS OTHER\n",
      "gym89ky1wt2f7urmmo9nsgym89kyffbg has entered in column other_work: Stay at home with kids // THIS ENTRY WAS DISCARDED AND SAVED AS OTHER\n"
     ]
    }
   ],
   "source": [
    "df_all = transform_all_to_df(responses)"
   ]
  },
  {
   "cell_type": "code",
   "execution_count": 34,
   "metadata": {},
   "outputs": [
    {
     "data": {
      "text/html": [
       "<div>\n",
       "<style scoped>\n",
       "    .dataframe tbody tr th:only-of-type {\n",
       "        vertical-align: middle;\n",
       "    }\n",
       "\n",
       "    .dataframe tbody tr th {\n",
       "        vertical-align: top;\n",
       "    }\n",
       "\n",
       "    .dataframe thead th {\n",
       "        text-align: right;\n",
       "    }\n",
       "</style>\n",
       "<table border=\"1\" class=\"dataframe\">\n",
       "  <thead>\n",
       "    <tr style=\"text-align: right;\">\n",
       "      <th></th>\n",
       "      <th>id</th>\n",
       "      <th>submitted_at</th>\n",
       "      <th>gender</th>\n",
       "      <th>age</th>\n",
       "      <th>ethnicity</th>\n",
       "      <th>live_alone</th>\n",
       "      <th>live_friends</th>\n",
       "      <th>live_partner</th>\n",
       "      <th>live_parents</th>\n",
       "      <th>live_siblings</th>\n",
       "      <th>...</th>\n",
       "      <th>positive_impact_connect</th>\n",
       "      <th>positive_impact_leisure</th>\n",
       "      <th>positive_impact_wfh</th>\n",
       "      <th>positive_impact_other</th>\n",
       "      <th>positive_impact_none</th>\n",
       "      <th>work_situation</th>\n",
       "      <th>financial_situation</th>\n",
       "      <th>housework_amount</th>\n",
       "      <th>housework_change</th>\n",
       "      <th>testimonial</th>\n",
       "    </tr>\n",
       "  </thead>\n",
       "  <tbody>\n",
       "    <tr>\n",
       "      <th>0</th>\n",
       "      <td>2jq17ikprbr4l0xxhrl2jq17f8f20zo5</td>\n",
       "      <td>2020-05-12T10:02:49Z</td>\n",
       "      <td>Woman</td>\n",
       "      <td>25-34</td>\n",
       "      <td>Black/African Caribbean/Black British</td>\n",
       "      <td>0</td>\n",
       "      <td>0</td>\n",
       "      <td>1</td>\n",
       "      <td>0</td>\n",
       "      <td>0</td>\n",
       "      <td>...</td>\n",
       "      <td>0</td>\n",
       "      <td>0</td>\n",
       "      <td>0</td>\n",
       "      <td>0</td>\n",
       "      <td>0</td>\n",
       "      <td>Yes, I work at home</td>\n",
       "      <td>It has had a bit of a negative impact and has ...</td>\n",
       "      <td>I take care of all the housework</td>\n",
       "      <td>I do more and it's impacting my paid work</td>\n",
       "      <td>Uncertainty in every area</td>\n",
       "    </tr>\n",
       "    <tr>\n",
       "      <th>1</th>\n",
       "      <td>2ne9wmkxwrmbaav8cl6bc2ne9wk1zsgd</td>\n",
       "      <td>2020-05-12T09:43:09Z</td>\n",
       "      <td>Woman</td>\n",
       "      <td>45-54</td>\n",
       "      <td>Black/African Caribbean/Black British</td>\n",
       "      <td>0</td>\n",
       "      <td>0</td>\n",
       "      <td>0</td>\n",
       "      <td>0</td>\n",
       "      <td>0</td>\n",
       "      <td>...</td>\n",
       "      <td>0</td>\n",
       "      <td>0</td>\n",
       "      <td>0</td>\n",
       "      <td>0</td>\n",
       "      <td>0</td>\n",
       "      <td>Yes, I work at home</td>\n",
       "      <td>I feel better about my finances than I did before</td>\n",
       "      <td>I take care of most of the housework</td>\n",
       "      <td>I now do less</td>\n",
       "      <td>Enjoying time with my children - however worri...</td>\n",
       "    </tr>\n",
       "    <tr>\n",
       "      <th>2</th>\n",
       "      <td>hx10ke8r8voeonj2xg3j8tmhx10k8hvz</td>\n",
       "      <td>2020-05-12T09:23:59Z</td>\n",
       "      <td>Woman</td>\n",
       "      <td>25-34</td>\n",
       "      <td>White</td>\n",
       "      <td>0</td>\n",
       "      <td>0</td>\n",
       "      <td>1</td>\n",
       "      <td>0</td>\n",
       "      <td>0</td>\n",
       "      <td>...</td>\n",
       "      <td>0</td>\n",
       "      <td>0</td>\n",
       "      <td>0</td>\n",
       "      <td>0</td>\n",
       "      <td>0</td>\n",
       "      <td>Yes, I work at home</td>\n",
       "      <td>It has had a bit of a negative impact and has ...</td>\n",
       "      <td>I take care of most of the housework</td>\n",
       "      <td>I haven't noticed a change</td>\n",
       "      <td>NA</td>\n",
       "    </tr>\n",
       "    <tr>\n",
       "      <th>3</th>\n",
       "      <td>0bzjymt7iz2qlwfgs0bz1ca7npbd0ld1</td>\n",
       "      <td>2020-05-12T09:01:42Z</td>\n",
       "      <td>Woman</td>\n",
       "      <td>25-34</td>\n",
       "      <td>White</td>\n",
       "      <td>0</td>\n",
       "      <td>0</td>\n",
       "      <td>1</td>\n",
       "      <td>0</td>\n",
       "      <td>0</td>\n",
       "      <td>...</td>\n",
       "      <td>0</td>\n",
       "      <td>0</td>\n",
       "      <td>0</td>\n",
       "      <td>0</td>\n",
       "      <td>0</td>\n",
       "      <td>Yes, I work outside of my home</td>\n",
       "      <td>It has had a bit of a negative impact and has ...</td>\n",
       "      <td>I take care of all the housework</td>\n",
       "      <td>I haven't noticed a change</td>\n",
       "      <td>0</td>\n",
       "    </tr>\n",
       "    <tr>\n",
       "      <th>4</th>\n",
       "      <td>1h4cywh5rrt1lmj3q1h4r056kcje82gq</td>\n",
       "      <td>2020-05-12T08:37:08Z</td>\n",
       "      <td>Woman</td>\n",
       "      <td>25-34</td>\n",
       "      <td>White</td>\n",
       "      <td>0</td>\n",
       "      <td>0</td>\n",
       "      <td>1</td>\n",
       "      <td>0</td>\n",
       "      <td>0</td>\n",
       "      <td>...</td>\n",
       "      <td>0</td>\n",
       "      <td>0</td>\n",
       "      <td>0</td>\n",
       "      <td>0</td>\n",
       "      <td>0</td>\n",
       "      <td>Yes, I work at home</td>\n",
       "      <td>I feel better about my finances than I did before</td>\n",
       "      <td>I take care of most of the housework</td>\n",
       "      <td>I do more but it's manageable and sustainable</td>\n",
       "      <td>Of course it has been a totally unexpected and...</td>\n",
       "    </tr>\n",
       "  </tbody>\n",
       "</table>\n",
       "<p>5 rows × 39 columns</p>\n",
       "</div>"
      ],
      "text/plain": [
       "                                 id          submitted_at gender    age  \\\n",
       "0  2jq17ikprbr4l0xxhrl2jq17f8f20zo5  2020-05-12T10:02:49Z  Woman  25-34   \n",
       "1  2ne9wmkxwrmbaav8cl6bc2ne9wk1zsgd  2020-05-12T09:43:09Z  Woman  45-54   \n",
       "2  hx10ke8r8voeonj2xg3j8tmhx10k8hvz  2020-05-12T09:23:59Z  Woman  25-34   \n",
       "3  0bzjymt7iz2qlwfgs0bz1ca7npbd0ld1  2020-05-12T09:01:42Z  Woman  25-34   \n",
       "4  1h4cywh5rrt1lmj3q1h4r056kcje82gq  2020-05-12T08:37:08Z  Woman  25-34   \n",
       "\n",
       "                               ethnicity  live_alone  live_friends  \\\n",
       "0  Black/African Caribbean/Black British           0             0   \n",
       "1  Black/African Caribbean/Black British           0             0   \n",
       "2                                  White           0             0   \n",
       "3                                  White           0             0   \n",
       "4                                  White           0             0   \n",
       "\n",
       "   live_partner  live_parents  live_siblings  ...  positive_impact_connect  \\\n",
       "0             1             0              0  ...                        0   \n",
       "1             0             0              0  ...                        0   \n",
       "2             1             0              0  ...                        0   \n",
       "3             1             0              0  ...                        0   \n",
       "4             1             0              0  ...                        0   \n",
       "\n",
       "   positive_impact_leisure  positive_impact_wfh positive_impact_other  \\\n",
       "0                        0                    0                     0   \n",
       "1                        0                    0                     0   \n",
       "2                        0                    0                     0   \n",
       "3                        0                    0                     0   \n",
       "4                        0                    0                     0   \n",
       "\n",
       "   positive_impact_none                  work_situation  \\\n",
       "0                     0             Yes, I work at home   \n",
       "1                     0             Yes, I work at home   \n",
       "2                     0             Yes, I work at home   \n",
       "3                     0  Yes, I work outside of my home   \n",
       "4                     0             Yes, I work at home   \n",
       "\n",
       "                                 financial_situation  \\\n",
       "0  It has had a bit of a negative impact and has ...   \n",
       "1  I feel better about my finances than I did before   \n",
       "2  It has had a bit of a negative impact and has ...   \n",
       "3  It has had a bit of a negative impact and has ...   \n",
       "4  I feel better about my finances than I did before   \n",
       "\n",
       "                       housework_amount  \\\n",
       "0      I take care of all the housework   \n",
       "1  I take care of most of the housework   \n",
       "2  I take care of most of the housework   \n",
       "3      I take care of all the housework   \n",
       "4  I take care of most of the housework   \n",
       "\n",
       "                                housework_change  \\\n",
       "0      I do more and it's impacting my paid work   \n",
       "1                                  I now do less   \n",
       "2                     I haven't noticed a change   \n",
       "3                     I haven't noticed a change   \n",
       "4  I do more but it's manageable and sustainable   \n",
       "\n",
       "                                         testimonial  \n",
       "0                          Uncertainty in every area  \n",
       "1  Enjoying time with my children - however worri...  \n",
       "2                                                 NA  \n",
       "3                                                  0  \n",
       "4  Of course it has been a totally unexpected and...  \n",
       "\n",
       "[5 rows x 39 columns]"
      ]
     },
     "execution_count": 34,
     "metadata": {},
     "output_type": "execute_result"
    }
   ],
   "source": [
    "df_all.head()"
   ]
  },
  {
   "cell_type": "code",
   "execution_count": 35,
   "metadata": {},
   "outputs": [
    {
     "data": {
      "text/plain": [
       "283"
      ]
     },
     "execution_count": 35,
     "metadata": {},
     "output_type": "execute_result"
    }
   ],
   "source": [
    "len(df_all)"
   ]
  },
  {
   "cell_type": "code",
   "execution_count": 36,
   "metadata": {},
   "outputs": [
    {
     "data": {
      "text/plain": [
       "Index(['id', 'submitted_at', 'gender', 'age', 'ethnicity', 'live_alone',\n",
       "       'live_friends', 'live_partner', 'live_parents', 'live_siblings',\n",
       "       'live_otherfamily', 'live_children', 'live_other', 'location',\n",
       "       'safety_level', 'safety_change', 'safety_why', 'mental_scale',\n",
       "       'mental_problems_repetitive', 'mental_problems_lonely',\n",
       "       'mental_problems_stressed', 'mental_problems_anxious',\n",
       "       'mental_problems_worriedhealth', 'mental_problems_scaredfuture',\n",
       "       'mental_problems_relationship', 'mental_problems_other',\n",
       "       'mental_problems_none', 'positive_impact_support_housework',\n",
       "       'positive_impact_support_childcare', 'positive_impact_connect',\n",
       "       'positive_impact_leisure', 'positive_impact_wfh',\n",
       "       'positive_impact_other', 'positive_impact_none', 'work_situation',\n",
       "       'financial_situation', 'housework_amount', 'housework_change',\n",
       "       'testimonial'],\n",
       "      dtype='object')"
      ]
     },
     "execution_count": 36,
     "metadata": {},
     "output_type": "execute_result"
    }
   ],
   "source": [
    "df_all.columns"
   ]
  },
  {
   "cell_type": "markdown",
   "metadata": {},
   "source": [
    "# Aggregation for Graph 0 - Map "
   ]
  },
  {
   "cell_type": "code",
   "execution_count": 76,
   "metadata": {},
   "outputs": [
    {
     "name": "stdout",
     "output_type": "stream",
     "text": [
      "The autoreload extension is already loaded. To reload it, use:\n",
      "  %reload_ext autoreload\n"
     ]
    }
   ],
   "source": [
    "%load_ext autoreload\n",
    "%autoreload 2\n",
    "from overview_tab.map_graph import merge_local_internat_dataframe"
   ]
  },
  {
   "cell_type": "code",
   "execution_count": 77,
   "metadata": {},
   "outputs": [],
   "source": [
    "postal_code = pd.read_csv(\"https://raw.githubusercontent.com/rjcnrd/domestic_violence_covid-19/master/data/postcode_uk.csv\", index_col = 0)\n",
    "#countries = pd.read_csv(\"https://raw.githubusercontent.com/rjcnrd/domestic_violence_covid-19/master/data/countries.csv\")\n",
    "countries = pd.read_csv(\"/Users/ameliemeurer/Documents/Amélie/HEC M2/07. Research Paper - UN Women/02. Code/domestic_violence_covid-19/data/countries.csv\", index_col = 0)"
   ]
  },
  {
   "cell_type": "code",
   "execution_count": 78,
   "metadata": {},
   "outputs": [],
   "source": [
    "all_reports_df, safety_df, safety_change_df, mental_health_df, working_situation_df, not_in_map, uk_data, uk_data_county = merge_local_internat_dataframe(survey_df = df_all, postal_code_df = postal_code, countries_df = countries,  map_threshold = 0, postal_code_col = \"location\")"
   ]
  },
  {
   "cell_type": "code",
   "execution_count": null,
   "metadata": {},
   "outputs": [],
   "source": [
    "all_reports_df.to_csv(\"data_map_all.csv\")\n",
    "safety_df.to_csv(\"data_map_safety_scale.csv\")\n",
    "safety_change_df.to_csv(\"data_map_safety_change.csv\")\n",
    "mental_health_df.to_csv(\"data_map_mental_health.csv\")\n",
    "working_situation_df.to_csv(\"data_map_working_situation.csv\")"
   ]
  },
  {
   "cell_type": "markdown",
   "metadata": {},
   "source": [
    "## Check for the rows that are not integrated"
   ]
  },
  {
   "cell_type": "code",
   "execution_count": 79,
   "metadata": {},
   "outputs": [
    {
     "data": {
      "text/plain": [
       "LONDON                      7\n",
       "UK                          2\n",
       "ENGLAND                     2\n",
       "UNITED STATES OF AMERICA    1\n",
       "HONG KONG SAR               1\n",
       "KEGWORTH                    1\n",
       "01-248 POLAND               1\n",
       "ΝR2 2DR                     1\n",
       "TOOTING                     1\n",
       "PARIS                       1\n",
       "700019 INDIA                1\n",
       "7 0RB                       1\n",
       "WOLVERHAMPTON UK            1\n",
       "BERLIN GERMANY              1\n",
       "UNITED KINGDOM              1\n",
       "CHESTERFIELD                1\n",
       "HKSAR                       1\n",
       "HOVE                        1\n",
       "Name: location, dtype: int64"
      ]
     },
     "execution_count": 79,
     "metadata": {},
     "output_type": "execute_result"
    }
   ],
   "source": [
    "#Here are the values that are not integrated, by order\n",
    "not_in_map.location.value_counts()"
   ]
  },
  {
   "cell_type": "code",
   "execution_count": null,
   "metadata": {},
   "outputs": [],
   "source": [
    "#If you want to append new location, you should update the countries csv, one by one \n",
    "#country_name : name of the country as you see it in the survey\n",
    "#Area : name of the country as it appears already in the survey. THIS WILL BE USED FOR A MERGE\n",
    "#Area_name : name of the country as it should appear in the hover (the same name as area name)\n",
    "\"\"\"\n",
    "countries_new = countries.append({\"latitude\": 22.396428, \n",
    "                                  \"longitude\": 114.10949699999999, \n",
    "                                  \"country_name\" : \"HKSAR\",\n",
    "                                  \"area\": \"HONG KONG\", \n",
    "                                  \"area_name\": \"Hong Kong\"}, ignore_index=True)\n",
    "countries_new.to_csv(\"/Users/ameliemeurer/Documents/Amélie/HEC M2/07. Research Paper - UN Women/02. Code/domestic_violence_covid-19/data/countries.csv\")\n",
    "                                  \"\"\""
   ]
  },
  {
   "cell_type": "markdown",
   "metadata": {},
   "source": [
    "\n",
    "# Aggregation for Graph 1. Scatter-Testimonial\n"
   ]
  },
  {
   "cell_type": "code",
   "execution_count": null,
   "metadata": {},
   "outputs": [],
   "source": [
    "df_graph_1 = df_all[[\"submitted_at\",\"testimonial\"]]"
   ]
  },
  {
   "cell_type": "code",
   "execution_count": null,
   "metadata": {},
   "outputs": [],
   "source": [
    "# add here the decision whether or not to publish it. for now, display if there is a testimonial\n",
    "\n",
    "display_testimonial = [1 if testimonial != 0 else 0 for testimonial in df_graph_1[\"testimonial\"]]"
   ]
  },
  {
   "cell_type": "code",
   "execution_count": null,
   "metadata": {},
   "outputs": [],
   "source": [
    "df_graph_1[\"display_testimonial\"] = display_testimonial"
   ]
  },
  {
   "cell_type": "code",
   "execution_count": null,
   "metadata": {},
   "outputs": [],
   "source": [
    "df_graph_1"
   ]
  },
  {
   "cell_type": "code",
   "execution_count": null,
   "metadata": {},
   "outputs": [],
   "source": [
    "df_graph_1.to_csv(\"data_graph1.csv\")"
   ]
  },
  {
   "cell_type": "code",
   "execution_count": null,
   "metadata": {},
   "outputs": [],
   "source": []
  }
 ],
 "metadata": {
  "kernelspec": {
   "display_name": "Python 3",
   "language": "python",
   "name": "python3"
  },
  "language_info": {
   "codemirror_mode": {
    "name": "ipython",
    "version": 3
   },
   "file_extension": ".py",
   "mimetype": "text/x-python",
   "name": "python",
   "nbconvert_exporter": "python",
   "pygments_lexer": "ipython3",
   "version": "3.6.7"
  }
 },
 "nbformat": 4,
 "nbformat_minor": 2
}

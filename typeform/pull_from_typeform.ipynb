{
 "cells": [
  {
   "cell_type": "markdown",
   "metadata": {},
   "source": [
    "### imports and preparation\n",
    "\n",
    "- place this notebook in ../typeform \n",
    "- store your own token for tf API in a file called \"typeform_token.py\" and save it locally (do not commit) in /typeform\n",
    "- The file contains only one line: TOKEN=\"your_token\""
   ]
  },
  {
   "cell_type": "code",
   "execution_count": null,
   "metadata": {},
   "outputs": [],
   "source": [
    "ls"
   ]
  },
  {
   "cell_type": "code",
   "execution_count": null,
   "metadata": {},
   "outputs": [],
   "source": [
    "import requests\n",
    "import pandas as pd\n",
    "#import my own function\n",
    "%run one_entry_to_dictionary.py\n",
    "%run typeform_token.py"
   ]
  },
  {
   "cell_type": "markdown",
   "metadata": {},
   "source": [
    "# 1. Pull Data from Typeform"
   ]
  },
  {
   "cell_type": "markdown",
   "metadata": {},
   "source": [
    "### Connect to TF, see metainfo for form"
   ]
  },
  {
   "cell_type": "code",
   "execution_count": null,
   "metadata": {},
   "outputs": [],
   "source": [
    "#IMPORT TOKEN FILE \n",
    "auth_token= TOKEN\n",
    "head = {'Authorization': 'Bearer ' + auth_token}\n",
    "url = 'https://api.typeform.com/forms/OHziDn'\n",
    "\n",
    "metainfo_form = requests.get(url, headers=head)\n",
    "#response 200 means its good !\n",
    "print(metainfo_form)\n",
    "print(metainfo_form.json())"
   ]
  },
  {
   "cell_type": "markdown",
   "metadata": {},
   "source": [
    "### Pull all responses exclusing mail from Typeform"
   ]
  },
  {
   "cell_type": "code",
   "execution_count": null,
   "metadata": {},
   "outputs": [],
   "source": [
    "# get all answers but not emails\n",
    "SIZE = \"500\"\n",
    "url = \"https://api.typeform.com/forms/OHziDn/responses?fields=Xa2T0bcZ5VnY,QUtA6k0gcrZf,ZNZyNVwMtwID,azlKRkvdcc7O,Vrzj2uv0i29C,Xh2W1d6FhXyK,t9EaTsONnJfR,OaujoVSY6NaS,ASolp4v3adZK,erHBE6gKxycf,ASQmq4h3vxRt,KEGztC8iYfyy,kWb7LUjdJyhb,g9goY6hIxmC9,jG2wzvAmOWxq,HNqA7BK7ZDFl&page_size=\"+SIZE\n",
    "\n",
    "response = requests.get(url, headers=head)\n",
    "#response 200 means its good !\n",
    "print(response)\n",
    "\n",
    "responses = response.json()"
   ]
  },
  {
   "cell_type": "code",
   "execution_count": null,
   "metadata": {},
   "outputs": [],
   "source": [
    "print(\"number of responses\",responses['total_items'])\n",
    "#look at the first response\n",
    "print(\"the last response:\",responses[\"items\"][0])"
   ]
  },
  {
   "cell_type": "markdown",
   "metadata": {},
   "source": [
    "# 2. Transform JSON to pandas.df and map dummy vars"
   ]
  },
  {
   "cell_type": "markdown",
   "metadata": {},
   "source": [
    "### step by step"
   ]
  },
  {
   "cell_type": "code",
   "execution_count": null,
   "metadata": {},
   "outputs": [],
   "source": [
    "# LOAD ONE PERSON FROM THE JSON RESPONSE\n",
    "one_person = responses[\"items\"][0]"
   ]
  },
  {
   "cell_type": "code",
   "execution_count": null,
   "metadata": {},
   "outputs": [],
   "source": [
    "#transform ONE person's information to a dictionary using function one_entry_to_dictionary\n",
    "dictionary_test = one_entry_to_dictionary(one_person)\n",
    "print(dictionary_test)"
   ]
  },
  {
   "cell_type": "code",
   "execution_count": null,
   "metadata": {},
   "outputs": [],
   "source": [
    "# transform dictionary to df \n",
    "df_test = pd.DataFrame(dictionary_test,index=[0])\n",
    "df_test.head()"
   ]
  },
  {
   "cell_type": "markdown",
   "metadata": {},
   "source": [
    "### apply this to entire JSON"
   ]
  },
  {
   "cell_type": "code",
   "execution_count": null,
   "metadata": {},
   "outputs": [],
   "source": [
    "def transform_all_to_df(responses):\n",
    "    '''\n",
    "    transforms the JSON response from the above query into a df with cols=vars, rows=individuals\n",
    "    '''\n",
    "    no_df_defined = True\n",
    "    for item in responses[\"items\"]:\n",
    "        dictionary_transformation = one_entry_to_dictionary(item)\n",
    "        df = pd.DataFrame(dictionary_transformation,index=[0])\n",
    "        #crate dictionary and then append to it \n",
    "        if no_df_defined:\n",
    "            df_all = df\n",
    "            no_df_defined = False\n",
    "        else: \n",
    "            df_all = df_all.append(df)\n",
    "    return df_all"
   ]
  },
  {
   "cell_type": "code",
   "execution_count": null,
   "metadata": {},
   "outputs": [],
   "source": [
    "df_all = transform_all_to_df(responses)"
   ]
  },
  {
   "cell_type": "code",
   "execution_count": null,
   "metadata": {},
   "outputs": [],
   "source": [
    "df_all.head()"
   ]
  },
  {
   "cell_type": "code",
   "execution_count": null,
   "metadata": {},
   "outputs": [],
   "source": [
    "len(df_all)"
   ]
  },
  {
   "cell_type": "markdown",
   "metadata": {},
   "source": [
    "\n",
    "# Aggregation for Graph 1. Scatter-Testimonial\n"
   ]
  },
  {
   "cell_type": "code",
   "execution_count": null,
   "metadata": {},
   "outputs": [],
   "source": [
    "df_graph_1 = df_all[[\"submitted_at\",\"testimonial\"]]"
   ]
  },
  {
   "cell_type": "code",
   "execution_count": null,
   "metadata": {},
   "outputs": [],
   "source": [
    "df_graph_1.to_csv(\"data_graph1.csv\")"
   ]
  },
  {
   "cell_type": "code",
   "execution_count": null,
   "metadata": {},
   "outputs": [],
   "source": []
  }
 ],
 "metadata": {
  "kernelspec": {
   "display_name": "Python 3.7.4 64-bit",
   "language": "python",
   "name": "python37464bit67b3f93dcc8640c09d7d1dccf79e5f38"
  },
  "language_info": {
   "codemirror_mode": {
    "name": "ipython",
    "version": 3
   },
   "file_extension": ".py",
   "mimetype": "text/x-python",
   "name": "python",
   "nbconvert_exporter": "python",
   "pygments_lexer": "ipython3",
   "version": "3.7.4"
  }
 },
 "nbformat": 4,
 "nbformat_minor": 2
}

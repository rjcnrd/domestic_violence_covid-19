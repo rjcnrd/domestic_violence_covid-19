{
 "cells": [
  {
   "cell_type": "code",
   "execution_count": 7,
   "metadata": {},
   "outputs": [],
   "source": [
    "import pandas as pd\n",
    "import datetime\n",
    "import numpy as np\n",
    "import random\n",
    "import time\n",
    "import string"
   ]
  },
  {
   "cell_type": "markdown",
   "metadata": {},
   "source": [
    "# Functions to create random fields"
   ]
  },
  {
   "cell_type": "markdown",
   "metadata": {},
   "source": [
    "## Random dates"
   ]
  },
  {
   "cell_type": "code",
   "execution_count": 54,
   "metadata": {},
   "outputs": [
    {
     "name": "stdout",
     "output_type": "stream",
     "text": [
      "14/04/2020 04:22 PM\n"
     ]
    }
   ],
   "source": [
    "#Generate random date \n",
    "\n",
    "\n",
    "def str_time_prop(start, end, format, prop):\n",
    "    \"\"\"Get a time at a proportion of a range of two formatted times.\n",
    "\n",
    "    start and end should be strings specifying times formated in the\n",
    "    given format (strftime-style), giving an interval [start, end].\n",
    "    prop specifies how a proportion of the interval to be taken after\n",
    "    start.  The returned time will be in the specified format.\n",
    "    \"\"\"\n",
    "\n",
    "    stime = time.mktime(time.strptime(start, format))\n",
    "    etime = time.mktime(time.strptime(end, format))\n",
    "\n",
    "    ptime = stime + prop * (etime - stime)\n",
    "\n",
    "    return time.strftime(format, time.localtime(ptime))\n",
    "\n",
    "\n",
    "def random_date(start, end, prop):\n",
    "    return str_time_prop(start, end, '%d/%m/%Y %I:%M %p', prop)\n",
    "\n",
    "print(random_date(\"8/4/2020 12:00 PM\", \"31/05/2020 11:59 PM\", np.random.power(1)))"
   ]
  },
  {
   "cell_type": "code",
   "execution_count": 56,
   "metadata": {},
   "outputs": [
    {
     "data": {
      "text/plain": [
       "['30/05/2020 08:47 AM', '03/05/2020 08:52 AM', '20/04/2020 01:26 AM']"
      ]
     },
     "execution_count": 56,
     "metadata": {},
     "output_type": "execute_result"
    }
   ],
   "source": [
    "[random_date(\"8/4/2020 12:00 PM\", \"31/05/2020 11:59 PM\", np.random.power(1)) for _ in range(3)]"
   ]
  },
  {
   "cell_type": "markdown",
   "metadata": {},
   "source": [
    "## Random post codes"
   ]
  },
  {
   "cell_type": "code",
   "execution_count": 11,
   "metadata": {},
   "outputs": [
    {
     "data": {
      "text/plain": [
       "array(['W1A 0AX', 'W1A 0AX', 'X', 'DN55 1PT', 'B33 8TH'], dtype='<U8')"
      ]
     },
     "execution_count": 11,
     "metadata": {},
     "output_type": "execute_result"
    }
   ],
   "source": [
    "random_postcodes = [\"SW1 3RN\", \"SW1V 4DG\", \"SE1 8XX\", \"B7 4NG\", \"EC1A 1BB\", \"W1A 0AX\", \"M1 1AE\", \"B33 8TH\", \"CR2 6XH\", \"DN55 1PT\", \"X\", np.nan]\n",
    "np.random.choice(random_postcodes, 5)"
   ]
  },
  {
   "cell_type": "markdown",
   "metadata": {},
   "source": [
    "## First time agression"
   ]
  },
  {
   "cell_type": "code",
   "execution_count": 14,
   "metadata": {},
   "outputs": [
    {
     "data": {
      "text/plain": [
       "array(['yes', 'yes', 'yes', 'yes', 'no'], dtype='<U3')"
      ]
     },
     "execution_count": 14,
     "metadata": {},
     "output_type": "execute_result"
    }
   ],
   "source": [
    "first_time = [\"yes\", \"no\"]\n",
    "np.random.choice(first_time, 5)"
   ]
  },
  {
   "cell_type": "markdown",
   "metadata": {},
   "source": [
    "## Agressor"
   ]
  },
  {
   "cell_type": "code",
   "execution_count": 15,
   "metadata": {},
   "outputs": [
    {
     "data": {
      "text/plain": [
       "array(['father-in-law', 'partner', 'father-in-law', 'father', 'brother'],\n",
       "      dtype='<U13')"
      ]
     },
     "execution_count": 15,
     "metadata": {},
     "output_type": "execute_result"
    }
   ],
   "source": [
    "agressor = [\"partner\", \"father\", \"brother\", \"father-in-law\"]\n",
    "np.random.choice(agressor, 5)"
   ]
  },
  {
   "cell_type": "markdown",
   "metadata": {},
   "source": [
    "## Random string"
   ]
  },
  {
   "cell_type": "code",
   "execution_count": 40,
   "metadata": {},
   "outputs": [
    {
     "data": {
      "text/plain": [
       "'od6zm1'"
      ]
     },
     "execution_count": 40,
     "metadata": {},
     "output_type": "execute_result"
    }
   ],
   "source": [
    "#Generate random string \n",
    "\n",
    "def random_string_generator(size=6, chars=string.ascii_lowercase + string.digits):\n",
    "    return ''.join(random.choice(chars) for x in range(size))\n",
    "\n",
    "random_string_generator()"
   ]
  },
  {
   "cell_type": "code",
   "execution_count": 41,
   "metadata": {},
   "outputs": [
    {
     "data": {
      "text/plain": [
       "['0n706', 'rm1kl9p18ymaorga74fadoyczj44', 'c2m4fhd9biceh8h9oeivzprl8v4cv9']"
      ]
     },
     "execution_count": 41,
     "metadata": {},
     "output_type": "execute_result"
    }
   ],
   "source": [
    "[random_string_generator(size = random.randint(0, 50)) for _ in range(3)]"
   ]
  },
  {
   "cell_type": "markdown",
   "metadata": {},
   "source": [
    "# Generate random data set"
   ]
  },
  {
   "cell_type": "code",
   "execution_count": 60,
   "metadata": {},
   "outputs": [],
   "source": [
    "def generate_random_dataframe(i): \n",
    "    \"\"\"\n",
    "    i: number of rows \n",
    "    \"\"\"\n",
    "    df = pd.DataFrame({\n",
    "        \"date_of_report\" : [random_date(\"8/4/2020 12:00 PM\", \"31/05/2020 11:59 PM\", np.random.power(2)) for _ in range(i)], \n",
    "        \"postal_code\": np.random.choice(random_postcodes, i), \n",
    "        \"first_time_experience\" : np.random.choice(first_time, i), \n",
    "        \"aggressor\" : np.random.choice(agressor, i), \n",
    "        \"written_report\" : [random_string_generator(size = random.randint(0, 50)) for _ in range(i)]}\n",
    "        )\n",
    "    return df "
   ]
  },
  {
   "cell_type": "code",
   "execution_count": 61,
   "metadata": {},
   "outputs": [
    {
     "data": {
      "text/html": [
       "<div>\n",
       "<style scoped>\n",
       "    .dataframe tbody tr th:only-of-type {\n",
       "        vertical-align: middle;\n",
       "    }\n",
       "\n",
       "    .dataframe tbody tr th {\n",
       "        vertical-align: top;\n",
       "    }\n",
       "\n",
       "    .dataframe thead th {\n",
       "        text-align: right;\n",
       "    }\n",
       "</style>\n",
       "<table border=\"1\" class=\"dataframe\">\n",
       "  <thead>\n",
       "    <tr style=\"text-align: right;\">\n",
       "      <th></th>\n",
       "      <th>date_of_report</th>\n",
       "      <th>postal_code</th>\n",
       "      <th>first_time_experience</th>\n",
       "      <th>aggressor</th>\n",
       "      <th>written_report</th>\n",
       "    </tr>\n",
       "  </thead>\n",
       "  <tbody>\n",
       "    <tr>\n",
       "      <th>0</th>\n",
       "      <td>12/05/2020 07:51 AM</td>\n",
       "      <td>SW1V 4DG</td>\n",
       "      <td>no</td>\n",
       "      <td>brother</td>\n",
       "      <td>w</td>\n",
       "    </tr>\n",
       "    <tr>\n",
       "      <th>1</th>\n",
       "      <td>23/04/2020 08:31 PM</td>\n",
       "      <td>nan</td>\n",
       "      <td>yes</td>\n",
       "      <td>brother</td>\n",
       "      <td>gh4sky520l5a2xxl8jeitu6tevsd3j0l0o5fth1gnm5q</td>\n",
       "    </tr>\n",
       "    <tr>\n",
       "      <th>2</th>\n",
       "      <td>05/05/2020 02:14 AM</td>\n",
       "      <td>DN55 1PT</td>\n",
       "      <td>yes</td>\n",
       "      <td>brother</td>\n",
       "      <td>9b5j8lp9c04yx0qe5hwmaiutlfxffnt7msosb</td>\n",
       "    </tr>\n",
       "    <tr>\n",
       "      <th>3</th>\n",
       "      <td>19/05/2020 02:24 AM</td>\n",
       "      <td>SE1 8XX</td>\n",
       "      <td>yes</td>\n",
       "      <td>brother</td>\n",
       "      <td>edqbjpzsdhyqobn</td>\n",
       "    </tr>\n",
       "    <tr>\n",
       "      <th>4</th>\n",
       "      <td>16/05/2020 10:53 AM</td>\n",
       "      <td>SE1 8XX</td>\n",
       "      <td>no</td>\n",
       "      <td>father</td>\n",
       "      <td>03cqtiq3yotp5u4runtckhof</td>\n",
       "    </tr>\n",
       "    <tr>\n",
       "      <th>...</th>\n",
       "      <td>...</td>\n",
       "      <td>...</td>\n",
       "      <td>...</td>\n",
       "      <td>...</td>\n",
       "      <td>...</td>\n",
       "    </tr>\n",
       "    <tr>\n",
       "      <th>995</th>\n",
       "      <td>31/05/2020 07:44 PM</td>\n",
       "      <td>SW1V 4DG</td>\n",
       "      <td>no</td>\n",
       "      <td>father</td>\n",
       "      <td>4e6mngw11ldtomh9j48swd1xtsdyf435hvl9s3yr</td>\n",
       "    </tr>\n",
       "    <tr>\n",
       "      <th>996</th>\n",
       "      <td>07/05/2020 01:38 PM</td>\n",
       "      <td>SW1 3RN</td>\n",
       "      <td>yes</td>\n",
       "      <td>brother</td>\n",
       "      <td>b67qr1t</td>\n",
       "    </tr>\n",
       "    <tr>\n",
       "      <th>997</th>\n",
       "      <td>24/04/2020 01:00 PM</td>\n",
       "      <td>X</td>\n",
       "      <td>no</td>\n",
       "      <td>father</td>\n",
       "      <td>70mu4zba2wa5v1p7ddfv3r138krju84dz4u6jzlrqiw1wxhv</td>\n",
       "    </tr>\n",
       "    <tr>\n",
       "      <th>998</th>\n",
       "      <td>25/05/2020 12:27 AM</td>\n",
       "      <td>B7 4NG</td>\n",
       "      <td>yes</td>\n",
       "      <td>partner</td>\n",
       "      <td>6vz1ot1urp2z0cwvw7pa05jfuvma23lfehbrog3</td>\n",
       "    </tr>\n",
       "    <tr>\n",
       "      <th>999</th>\n",
       "      <td>25/04/2020 05:28 PM</td>\n",
       "      <td>B33 8TH</td>\n",
       "      <td>yes</td>\n",
       "      <td>partner</td>\n",
       "      <td>v9chqu3o85jdp2i5cp7vsedmwbtgovah5</td>\n",
       "    </tr>\n",
       "  </tbody>\n",
       "</table>\n",
       "<p>1000 rows × 5 columns</p>\n",
       "</div>"
      ],
      "text/plain": [
       "          date_of_report postal_code first_time_experience aggressor  \\\n",
       "0    12/05/2020 07:51 AM    SW1V 4DG                    no   brother   \n",
       "1    23/04/2020 08:31 PM         nan                   yes   brother   \n",
       "2    05/05/2020 02:14 AM    DN55 1PT                   yes   brother   \n",
       "3    19/05/2020 02:24 AM     SE1 8XX                   yes   brother   \n",
       "4    16/05/2020 10:53 AM     SE1 8XX                    no    father   \n",
       "..                   ...         ...                   ...       ...   \n",
       "995  31/05/2020 07:44 PM    SW1V 4DG                    no    father   \n",
       "996  07/05/2020 01:38 PM     SW1 3RN                   yes   brother   \n",
       "997  24/04/2020 01:00 PM           X                    no    father   \n",
       "998  25/05/2020 12:27 AM      B7 4NG                   yes   partner   \n",
       "999  25/04/2020 05:28 PM     B33 8TH                   yes   partner   \n",
       "\n",
       "                                       written_report  \n",
       "0                                                   w  \n",
       "1        gh4sky520l5a2xxl8jeitu6tevsd3j0l0o5fth1gnm5q  \n",
       "2               9b5j8lp9c04yx0qe5hwmaiutlfxffnt7msosb  \n",
       "3                                     edqbjpzsdhyqobn  \n",
       "4                            03cqtiq3yotp5u4runtckhof  \n",
       "..                                                ...  \n",
       "995          4e6mngw11ldtomh9j48swd1xtsdyf435hvl9s3yr  \n",
       "996                                           b67qr1t  \n",
       "997  70mu4zba2wa5v1p7ddfv3r138krju84dz4u6jzlrqiw1wxhv  \n",
       "998           6vz1ot1urp2z0cwvw7pa05jfuvma23lfehbrog3  \n",
       "999                 v9chqu3o85jdp2i5cp7vsedmwbtgovah5  \n",
       "\n",
       "[1000 rows x 5 columns]"
      ]
     },
     "execution_count": 61,
     "metadata": {},
     "output_type": "execute_result"
    }
   ],
   "source": [
    "data = generate_random_dataframe(1000)\n",
    "data"
   ]
  },
  {
   "cell_type": "code",
   "execution_count": 62,
   "metadata": {},
   "outputs": [],
   "source": [
    "data.to_csv(\"dummy_data_new.csv\")"
   ]
  },
  {
   "cell_type": "code",
   "execution_count": null,
   "metadata": {},
   "outputs": [],
   "source": []
  }
 ],
 "metadata": {
  "kernelspec": {
   "display_name": "Python 3",
   "language": "python",
   "name": "python3"
  },
  "language_info": {
   "codemirror_mode": {
    "name": "ipython",
    "version": 3
   },
   "file_extension": ".py",
   "mimetype": "text/x-python",
   "name": "python",
   "nbconvert_exporter": "python",
   "pygments_lexer": "ipython3",
   "version": "3.6.7"
  }
 },
 "nbformat": 4,
 "nbformat_minor": 2
}

{
 "cells": [
  {
   "cell_type": "code",
   "execution_count": 13,
   "metadata": {},
   "outputs": [],
   "source": [
    "import pandas as pd\n",
    "import datetime\n",
    "import numpy as np\n",
    "import random\n",
    "import time\n",
    "import string"
   ]
  },
  {
   "cell_type": "markdown",
   "metadata": {},
   "source": [
    "# Functions to create random fields"
   ]
  },
  {
   "cell_type": "markdown",
   "metadata": {},
   "source": [
    "## Random dates"
   ]
  },
  {
   "cell_type": "code",
   "execution_count": 14,
   "metadata": {},
   "outputs": [
    {
     "name": "stdout",
     "output_type": "stream",
     "text": [
      "14/05/2020 12:15 AM\n"
     ]
    }
   ],
   "source": [
    "#Generate random date \n",
    "\n",
    "\n",
    "def str_time_prop(start, end, format, prop):\n",
    "    \"\"\"Get a time at a proportion of a range of two formatted times.\n",
    "\n",
    "    start and end should be strings specifying times formated in the\n",
    "    given format (strftime-style), giving an interval [start, end].\n",
    "    prop specifies how a proportion of the interval to be taken after\n",
    "    start.  The returned time will be in the specified format.\n",
    "    \"\"\"\n",
    "\n",
    "    stime = time.mktime(time.strptime(start, format))\n",
    "    etime = time.mktime(time.strptime(end, format))\n",
    "\n",
    "    ptime = stime + prop * (etime - stime)\n",
    "\n",
    "    return time.strftime(format, time.localtime(ptime))\n",
    "\n",
    "\n",
    "def random_date(start, end, prop):\n",
    "    return str_time_prop(start, end, '%d/%m/%Y %I:%M %p', prop)\n",
    "\n",
    "print(random_date(\"8/4/2020 12:00 PM\", \"31/05/2020 11:59 PM\", np.random.power(1)))"
   ]
  },
  {
   "cell_type": "code",
   "execution_count": 15,
   "metadata": {},
   "outputs": [
    {
     "data": {
      "text/plain": [
       "['16/05/2020 09:10 AM', '21/05/2020 04:01 AM', '28/05/2020 01:09 PM']"
      ]
     },
     "execution_count": 15,
     "metadata": {},
     "output_type": "execute_result"
    }
   ],
   "source": [
    "[random_date(\"8/4/2020 12:00 PM\", \"31/05/2020 11:59 PM\", np.random.power(1)) for _ in range(3)]"
   ]
  },
  {
   "cell_type": "markdown",
   "metadata": {},
   "source": [
    "## Random post codes"
   ]
  },
  {
   "cell_type": "code",
   "execution_count": 16,
   "metadata": {},
   "outputs": [
    {
     "data": {
      "text/plain": [
       "array(['CR2 6XH', 'EC1A 1BB', 'SE1 8XX', 'CR2 6XH', 'SE1 8XX'],\n",
       "      dtype='<U8')"
      ]
     },
     "execution_count": 16,
     "metadata": {},
     "output_type": "execute_result"
    }
   ],
   "source": [
    "random_postcodes = [\"SW1 3RN\", \"SW1V 4DG\", \"SE1 8XX\", \"B7 4NG\", \"EC1A 1BB\", \"W1A 0AX\", \"M1 1AE\", \"B33 8TH\", \"CR2 6XH\", \"DN55 1PT\", \"X\", np.nan]\n",
    "np.random.choice(random_postcodes, 5)"
   ]
  },
  {
   "cell_type": "markdown",
   "metadata": {},
   "source": [
    "## First time agression"
   ]
  },
  {
   "cell_type": "code",
   "execution_count": 17,
   "metadata": {},
   "outputs": [
    {
     "data": {
      "text/plain": [
       "array(['yes', 'yes', 'no', 'yes', 'yes'], dtype='<U3')"
      ]
     },
     "execution_count": 17,
     "metadata": {},
     "output_type": "execute_result"
    }
   ],
   "source": [
    "first_time = [\"yes\", \"no\"]\n",
    "np.random.choice(first_time, 5)"
   ]
  },
  {
   "cell_type": "markdown",
   "metadata": {},
   "source": [
    "## Agressor"
   ]
  },
  {
   "cell_type": "code",
   "execution_count": 18,
   "metadata": {},
   "outputs": [
    {
     "data": {
      "text/plain": [
       "array(['father-in-law', 'brother', 'father-in-law', 'father', 'brother'],\n",
       "      dtype='<U13')"
      ]
     },
     "execution_count": 18,
     "metadata": {},
     "output_type": "execute_result"
    }
   ],
   "source": [
    "agressor = [\"partner\", \"father\", \"brother\", \"father-in-law\"]\n",
    "np.random.choice(agressor, 5)"
   ]
  },
  {
   "cell_type": "markdown",
   "metadata": {},
   "source": [
    "## Display report or not"
   ]
  },
  {
   "cell_type": "code",
   "execution_count": 19,
   "metadata": {},
   "outputs": [
    {
     "data": {
      "text/plain": [
       "array([0, 0, 0, 0, 0, 0, 0, 0, 0, 0, 0, 0, 0, 0, 0, 0, 0, 0, 0, 0])"
      ]
     },
     "execution_count": 19,
     "metadata": {},
     "output_type": "execute_result"
    }
   ],
   "source": [
    "np.random.binomial(1, 0.1, 20)"
   ]
  },
  {
   "cell_type": "markdown",
   "metadata": {},
   "source": [
    "## Random string"
   ]
  },
  {
   "cell_type": "code",
   "execution_count": 20,
   "metadata": {},
   "outputs": [
    {
     "data": {
      "text/plain": [
       "'w0asak'"
      ]
     },
     "execution_count": 20,
     "metadata": {},
     "output_type": "execute_result"
    }
   ],
   "source": [
    "#Generate random string \n",
    "\n",
    "def random_string_generator(size=6, chars=string.ascii_lowercase + string.digits):\n",
    "    return ''.join(random.choice(chars) for x in range(size))\n",
    "\n",
    "random_string_generator()"
   ]
  },
  {
   "cell_type": "code",
   "execution_count": 21,
   "metadata": {},
   "outputs": [
    {
     "data": {
      "text/plain": [
       "['9mqx5y8lmpsf4zp8v3dvle',\n",
       " '82vqt2030dvo9sqdixxfnggwkw29heurgrm2ez4',\n",
       " 'hwyhsga1uc3mi']"
      ]
     },
     "execution_count": 21,
     "metadata": {},
     "output_type": "execute_result"
    }
   ],
   "source": [
    "[random_string_generator(size = random.randint(0, 50)) for _ in range(3)]"
   ]
  },
  {
   "cell_type": "markdown",
   "metadata": {},
   "source": [
    "# Generate random data set"
   ]
  },
  {
   "cell_type": "code",
   "execution_count": 22,
   "metadata": {},
   "outputs": [],
   "source": [
    "def generate_random_dataframe(i): \n",
    "    \"\"\"\n",
    "    i: number of rows \n",
    "    \"\"\"\n",
    "    df = pd.DataFrame({\n",
    "        \"date_of_report\" : [random_date(\"8/4/2020 12:00 PM\", \"31/05/2020 11:59 PM\", np.random.power(2)) for _ in range(i)], \n",
    "        \"postal_code\": np.random.choice(random_postcodes, i), \n",
    "        \"first_time_experience\" : np.random.choice(first_time, i), \n",
    "        \"aggressor\" : np.random.choice(agressor, i), \n",
    "        \"display_testimonial\" : np.random.binomial(1, 0.1, i), \n",
    "        \"written_report\" : [random_string_generator(size = random.randint(0, 50)) for _ in range(i)]}\n",
    "        )\n",
    "    return df "
   ]
  },
  {
   "cell_type": "code",
   "execution_count": 23,
   "metadata": {},
   "outputs": [
    {
     "data": {
      "text/html": [
       "<div>\n",
       "<style scoped>\n",
       "    .dataframe tbody tr th:only-of-type {\n",
       "        vertical-align: middle;\n",
       "    }\n",
       "\n",
       "    .dataframe tbody tr th {\n",
       "        vertical-align: top;\n",
       "    }\n",
       "\n",
       "    .dataframe thead th {\n",
       "        text-align: right;\n",
       "    }\n",
       "</style>\n",
       "<table border=\"1\" class=\"dataframe\">\n",
       "  <thead>\n",
       "    <tr style=\"text-align: right;\">\n",
       "      <th></th>\n",
       "      <th>date_of_report</th>\n",
       "      <th>postal_code</th>\n",
       "      <th>first_time_experience</th>\n",
       "      <th>aggressor</th>\n",
       "      <th>display_testimonial</th>\n",
       "      <th>written_report</th>\n",
       "    </tr>\n",
       "  </thead>\n",
       "  <tbody>\n",
       "    <tr>\n",
       "      <th>0</th>\n",
       "      <td>27/05/2020 10:16 AM</td>\n",
       "      <td>CR2 6XH</td>\n",
       "      <td>no</td>\n",
       "      <td>father-in-law</td>\n",
       "      <td>0</td>\n",
       "      <td>wf8hoxauo41ad50h9wst6f3sjpg2</td>\n",
       "    </tr>\n",
       "    <tr>\n",
       "      <th>1</th>\n",
       "      <td>25/05/2020 02:54 AM</td>\n",
       "      <td>SW1 3RN</td>\n",
       "      <td>no</td>\n",
       "      <td>father</td>\n",
       "      <td>1</td>\n",
       "      <td>07svcbdesr9p0k</td>\n",
       "    </tr>\n",
       "    <tr>\n",
       "      <th>2</th>\n",
       "      <td>24/05/2020 07:28 AM</td>\n",
       "      <td>X</td>\n",
       "      <td>yes</td>\n",
       "      <td>father</td>\n",
       "      <td>0</td>\n",
       "      <td>ouavqzf4jojfu8qe</td>\n",
       "    </tr>\n",
       "    <tr>\n",
       "      <th>3</th>\n",
       "      <td>24/05/2020 07:30 AM</td>\n",
       "      <td>SW1V 4DG</td>\n",
       "      <td>yes</td>\n",
       "      <td>brother</td>\n",
       "      <td>0</td>\n",
       "      <td>5mmbx8ppamkc3vrhlarh8w</td>\n",
       "    </tr>\n",
       "    <tr>\n",
       "      <th>4</th>\n",
       "      <td>29/04/2020 09:37 PM</td>\n",
       "      <td>M1 1AE</td>\n",
       "      <td>yes</td>\n",
       "      <td>partner</td>\n",
       "      <td>0</td>\n",
       "      <td>his61ev2t6bivwpu7eo90m68hdxrj3m51tdgr</td>\n",
       "    </tr>\n",
       "    <tr>\n",
       "      <th>...</th>\n",
       "      <td>...</td>\n",
       "      <td>...</td>\n",
       "      <td>...</td>\n",
       "      <td>...</td>\n",
       "      <td>...</td>\n",
       "      <td>...</td>\n",
       "    </tr>\n",
       "    <tr>\n",
       "      <th>995</th>\n",
       "      <td>27/05/2020 01:13 AM</td>\n",
       "      <td>B7 4NG</td>\n",
       "      <td>yes</td>\n",
       "      <td>partner</td>\n",
       "      <td>0</td>\n",
       "      <td>2aihkvtebme</td>\n",
       "    </tr>\n",
       "    <tr>\n",
       "      <th>996</th>\n",
       "      <td>03/05/2020 11:56 PM</td>\n",
       "      <td>B33 8TH</td>\n",
       "      <td>no</td>\n",
       "      <td>partner</td>\n",
       "      <td>0</td>\n",
       "      <td>42no1ndt71hqybf4hrx1</td>\n",
       "    </tr>\n",
       "    <tr>\n",
       "      <th>997</th>\n",
       "      <td>24/05/2020 01:22 AM</td>\n",
       "      <td>nan</td>\n",
       "      <td>yes</td>\n",
       "      <td>brother</td>\n",
       "      <td>0</td>\n",
       "      <td>fvtezz6k05bhmylhxa7nfqj20oyz01kny0uggrr8</td>\n",
       "    </tr>\n",
       "    <tr>\n",
       "      <th>998</th>\n",
       "      <td>13/04/2020 11:05 PM</td>\n",
       "      <td>W1A 0AX</td>\n",
       "      <td>yes</td>\n",
       "      <td>brother</td>\n",
       "      <td>0</td>\n",
       "      <td>153f2f2pszku75nqscqs0hcbspitlaiyoriu71xrw7n6j</td>\n",
       "    </tr>\n",
       "    <tr>\n",
       "      <th>999</th>\n",
       "      <td>22/05/2020 10:31 AM</td>\n",
       "      <td>CR2 6XH</td>\n",
       "      <td>yes</td>\n",
       "      <td>father</td>\n",
       "      <td>1</td>\n",
       "      <td>dyalo804497xm6iaghxqxcak8hyk40ctuvy2su</td>\n",
       "    </tr>\n",
       "  </tbody>\n",
       "</table>\n",
       "<p>1000 rows × 6 columns</p>\n",
       "</div>"
      ],
      "text/plain": [
       "          date_of_report postal_code first_time_experience      aggressor  \\\n",
       "0    27/05/2020 10:16 AM     CR2 6XH                    no  father-in-law   \n",
       "1    25/05/2020 02:54 AM     SW1 3RN                    no         father   \n",
       "2    24/05/2020 07:28 AM           X                   yes         father   \n",
       "3    24/05/2020 07:30 AM    SW1V 4DG                   yes        brother   \n",
       "4    29/04/2020 09:37 PM      M1 1AE                   yes        partner   \n",
       "..                   ...         ...                   ...            ...   \n",
       "995  27/05/2020 01:13 AM      B7 4NG                   yes        partner   \n",
       "996  03/05/2020 11:56 PM     B33 8TH                    no        partner   \n",
       "997  24/05/2020 01:22 AM         nan                   yes        brother   \n",
       "998  13/04/2020 11:05 PM     W1A 0AX                   yes        brother   \n",
       "999  22/05/2020 10:31 AM     CR2 6XH                   yes         father   \n",
       "\n",
       "     display_testimonial                                 written_report  \n",
       "0                      0                   wf8hoxauo41ad50h9wst6f3sjpg2  \n",
       "1                      1                                 07svcbdesr9p0k  \n",
       "2                      0                               ouavqzf4jojfu8qe  \n",
       "3                      0                         5mmbx8ppamkc3vrhlarh8w  \n",
       "4                      0          his61ev2t6bivwpu7eo90m68hdxrj3m51tdgr  \n",
       "..                   ...                                            ...  \n",
       "995                    0                                    2aihkvtebme  \n",
       "996                    0                           42no1ndt71hqybf4hrx1  \n",
       "997                    0       fvtezz6k05bhmylhxa7nfqj20oyz01kny0uggrr8  \n",
       "998                    0  153f2f2pszku75nqscqs0hcbspitlaiyoriu71xrw7n6j  \n",
       "999                    1         dyalo804497xm6iaghxqxcak8hyk40ctuvy2su  \n",
       "\n",
       "[1000 rows x 6 columns]"
      ]
     },
     "execution_count": 23,
     "metadata": {},
     "output_type": "execute_result"
    }
   ],
   "source": [
    "data = generate_random_dataframe(1000)\n",
    "data"
   ]
  },
  {
   "cell_type": "code",
   "execution_count": 24,
   "metadata": {},
   "outputs": [],
   "source": [
    "data.to_csv(\"dummy_data_new.csv\")"
   ]
  },
  {
   "cell_type": "code",
   "execution_count": null,
   "metadata": {},
   "outputs": [],
   "source": []
  }
 ],
 "metadata": {
  "kernelspec": {
   "display_name": "Python 3",
   "language": "python",
   "name": "python3"
  },
  "language_info": {
   "codemirror_mode": {
    "name": "ipython",
    "version": 3
   },
   "file_extension": ".py",
   "mimetype": "text/x-python",
   "name": "python",
   "nbconvert_exporter": "python",
   "pygments_lexer": "ipython3",
   "version": "3.6.7"
  }
 },
 "nbformat": 4,
 "nbformat_minor": 2
}
